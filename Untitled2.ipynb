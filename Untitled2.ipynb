{
 "cells": [
  {
   "cell_type": "markdown",
   "id": "8e1f8527",
   "metadata": {},
   "source": [
    "# My Jupyter Notebook on IBM Watson Studio"
   ]
  },
  {
   "cell_type": "markdown",
   "id": "1e070108",
   "metadata": {},
   "source": [
    "**Yiwei Xu**\n",
    "\n",
    "Data Analyst"
   ]
  },
  {
   "cell_type": "markdown",
   "id": "d1ae1767",
   "metadata": {},
   "source": [
    "*I am interested in data science because it is fun*"
   ]
  },
  {
   "cell_type": "markdown",
   "id": "073fc312",
   "metadata": {},
   "source": [
    "### 1+1"
   ]
  },
  {
   "cell_type": "code",
   "execution_count": 2,
   "id": "7e90cb68",
   "metadata": {},
   "outputs": [
    {
     "name": "stdout",
     "output_type": "stream",
     "text": [
      "2\n"
     ]
    }
   ],
   "source": [
    "print(1+1)"
   ]
  },
  {
   "cell_type": "markdown",
   "id": "00386343",
   "metadata": {},
   "source": [
    "Horizontal Rule\n",
    "\n",
    "---\n",
    "\n",
    "1. first item \n",
    "- Unordered"
   ]
  },
  {
   "cell_type": "code",
   "execution_count": null,
   "id": "b1bebb3a",
   "metadata": {},
   "outputs": [],
   "source": []
  }
 ],
 "metadata": {
  "kernelspec": {
   "display_name": "Python 3 (ipykernel)",
   "language": "python",
   "name": "python3"
  },
  "language_info": {
   "codemirror_mode": {
    "name": "ipython",
    "version": 3
   },
   "file_extension": ".py",
   "mimetype": "text/x-python",
   "name": "python",
   "nbconvert_exporter": "python",
   "pygments_lexer": "ipython3",
   "version": "3.9.13"
  }
 },
 "nbformat": 4,
 "nbformat_minor": 5
}
